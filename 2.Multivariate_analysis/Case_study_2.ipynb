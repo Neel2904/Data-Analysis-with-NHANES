{
 "cells": [
  {
   "cell_type": "code",
   "execution_count": null,
   "metadata": {},
   "outputs": [],
   "source": [
    "%matplotlib inline\n",
    "import matplotlib.pyplot as plt\n",
    "import seaborn as sns\n",
    "import pandas as pd\n",
    "import numpy as np\n",
    "from scipy import stats"
   ]
  },
  {
   "cell_type": "code",
   "execution_count": null,
   "metadata": {},
   "outputs": [],
   "source": [
    "da = pd.read_csv(\"nhanes_2015_2016.csv\")"
   ]
  },
  {
   "cell_type": "code",
   "execution_count": null,
   "metadata": {},
   "outputs": [],
   "source": [
    "sns.regplot(x=\"BMXLEG\", y=\"BMXARML\", data=da, fit_reg=False, scatter_kws={\"alpha\": 0.2})"
   ]
  },
  {
   "cell_type": "code",
   "execution_count": null,
   "metadata": {},
   "outputs": [],
   "source": [
    "#ignore deprecation warning message\n",
    "sns.jointplot(x=\"BMXLEG\", y=\"BMXARML\", kind='kde', data=da).annotate(stats.pearsonr)"
   ]
  },
  {
   "cell_type": "code",
   "execution_count": null,
   "metadata": {},
   "outputs": [],
   "source": [
    "#ignore deprecation warning message\n",
    "sns.jointplot(x=\"BPXSY1\", y=\"BPXDI1\", kind='kde', data=da).annotate(stats.pearsonr)"
   ]
  },
  {
   "cell_type": "code",
   "execution_count": null,
   "metadata": {},
   "outputs": [],
   "source": [
    "#ignore deprecation warning message\n",
    "jp = sns.jointplot(x=\"BPXSY1\", y=\"BPXSY2\", kind='kde', data=da).annotate(stats.pearsonr)"
   ]
  },
  {
   "cell_type": "code",
   "execution_count": null,
   "metadata": {},
   "outputs": [],
   "source": [
    "da[\"RIAGENDRx\"] = da.RIAGENDR.replace({1: \"Male\", 2: \"Female\"}) \n",
    "sns.FacetGrid(da, col=\"RIAGENDRx\").map(plt.scatter, \"BMXLEG\", \"BMXARML\", alpha=0.4).add_legend()"
   ]
  },
  {
   "cell_type": "code",
   "execution_count": null,
   "metadata": {},
   "outputs": [],
   "source": [
    "print(da.loc[da.RIAGENDRx==\"Female\", [\"BMXLEG\", \"BMXARML\"]].dropna().corr())\n",
    "print(da.loc[da.RIAGENDRx==\"Male\", [\"BMXLEG\", \"BMXARML\"]].dropna().corr())"
   ]
  },
  {
   "cell_type": "code",
   "execution_count": null,
   "metadata": {},
   "outputs": [],
   "source": [
    "_ = sns.FacetGrid(da, col=\"RIDRETH1\",  row=\"RIAGENDRx\").map(plt.scatter, \"BMXLEG\", \"BMXARML\", alpha=0.5).add_legend()"
   ]
  },
  {
   "cell_type": "code",
   "execution_count": null,
   "metadata": {},
   "outputs": [],
   "source": [
    "da[\"DMDEDUC2x\"] = da.DMDEDUC2.replace({1: \"<9\", 2: \"9-11\", 3: \"HS/GED\", 4: \"Some college/AA\", 5: \"College\", \n",
    "                                       7: \"Refused\", 9: \"Don't know\"})\n",
    "da[\"DMDMARTLx\"] = da.DMDMARTL.replace({1: \"Married\", 2: \"Widowed\", 3: \"Divorced\", 4: \"Separated\", 5: \"Never married\",\n",
    "                                      6: \"Living w/partner\", 77: \"Refused\"})\n",
    "db = da.loc[(da.DMDEDUC2x != \"Don't know\") & (da.DMDMARTLx != \"Refused\"), :]"
   ]
  },
  {
   "cell_type": "code",
   "execution_count": null,
   "metadata": {},
   "outputs": [],
   "source": [
    "x = pd.crosstab(db.DMDEDUC2x, da.DMDMARTLx)\n",
    "x"
   ]
  },
  {
   "cell_type": "code",
   "execution_count": null,
   "metadata": {},
   "outputs": [],
   "source": [
    "x.apply(lambda z: z/z.sum(), axis=1)"
   ]
  },
  {
   "cell_type": "code",
   "execution_count": null,
   "metadata": {},
   "outputs": [],
   "source": [
    "x.apply(lambda z: z/z.sum(), axis=0)"
   ]
  },
  {
   "cell_type": "code",
   "execution_count": null,
   "metadata": {},
   "outputs": [],
   "source": [
    "# The following line does these steps, reading the code from left to right:\n",
    "# 1 Group the data by every combination of gender, education, and marital status\n",
    "# 2 Count the number of people in each cell using the 'size' method\n",
    "# 3 Pivot the marital status results into the columns (using unstack)\n",
    "# 4 Fill any empty cells with 0\n",
    "# 5 Normalize the data by row\n",
    "db.groupby([\"RIAGENDRx\", \"DMDEDUC2x\", \"DMDMARTLx\"]).size().unstack().fillna(0).apply(lambda x: x/x.sum(), axis=1)"
   ]
  },
  {
   "cell_type": "code",
   "execution_count": null,
   "metadata": {},
   "outputs": [],
   "source": [
    "dx = db.loc[(db.RIDAGEYR >= 40) & (db.RIDAGEYR < 50)]\n",
    "a = dx.groupby([\"RIAGENDRx\", \"DMDEDUC2x\", \"DMDMARTLx\"]).size().unstack().fillna(0).apply(lambda x: x/x.sum(), axis=1)\n",
    "\n",
    "dx = db.loc[(db.RIDAGEYR >= 50) & (db.RIDAGEYR < 60)]\n",
    "b = dx.groupby([\"RIAGENDRx\", \"DMDEDUC2x\", \"DMDMARTLx\"]).size().unstack().fillna(0).apply(lambda x: x/x.sum(), axis=1)\n",
    "\n",
    "print(a.loc[:, [\"Married\"]].unstack())\n",
    "print(\"\")\n",
    "print(b.loc[:, [\"Married\"]].unstack())"
   ]
  },
  {
   "cell_type": "code",
   "execution_count": null,
   "metadata": {},
   "outputs": [],
   "source": [
    "plt.figure(figsize=(12, 4))\n",
    "a = sns.boxplot(db.DMDMARTLx, db.RIDAGEYR)"
   ]
  },
  {
   "cell_type": "code",
   "execution_count": null,
   "metadata": {},
   "outputs": [],
   "source": [
    "plt.figure(figsize=(12, 4))\n",
    "a = sns.violinplot(da.DMDMARTLx, da.RIDAGEYR)"
   ]
  },
  {
   "cell_type": "code",
   "execution_count": null,
   "metadata": {},
   "outputs": [],
   "source": []
  }
 ],
 "metadata": {
  "kernelspec": {
   "display_name": "Python 3",
   "language": "python",
   "name": "python3"
  },
  "language_info": {
   "codemirror_mode": {
    "name": "ipython",
    "version": 3
   },
   "file_extension": ".py",
   "mimetype": "text/x-python",
   "name": "python",
   "nbconvert_exporter": "python",
   "pygments_lexer": "ipython3",
   "version": "3.8.2"
  }
 },
 "nbformat": 4,
 "nbformat_minor": 4
}
