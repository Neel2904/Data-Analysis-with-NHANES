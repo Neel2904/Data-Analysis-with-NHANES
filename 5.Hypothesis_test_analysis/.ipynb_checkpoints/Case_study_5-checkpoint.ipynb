{
 "cells": [
  {
   "cell_type": "code",
   "execution_count": null,
   "metadata": {},
   "outputs": [],
   "source": [
    "%matplotlib inline\n",
    "import pandas as pd\n",
    "import numpy as np\n",
    "import seaborn as sns\n",
    "import matplotlib.pyplot as plt\n",
    "import statsmodels.api as sm\n",
    "import scipy.stats.distributions as dist"
   ]
  },
  {
   "cell_type": "code",
   "execution_count": null,
   "metadata": {},
   "outputs": [],
   "source": [
    "da = pd.read_csv(\"nhanes_2015_2016.csv\")\n",
    "\n",
    "da[\"SMQ020x\"] = da.SMQ020.replace({1: \"Yes\", 2: \"No\", 7: np.nan, 9: np.nan})  # np.nan represents a missing value\n",
    "da[\"RIAGENDRx\"] = da.RIAGENDR.replace({1: \"Male\", 2: \"Female\"})\n",
    "da[\"DMDCITZNx\"] = da.DMDCITZN.replace({1: \"Yes\", 2: \"No\", 7: np.nan, 9: np.nan})"
   ]
  },
  {
   "cell_type": "code",
   "execution_count": null,
   "metadata": {},
   "outputs": [],
   "source": [
    "x = da.SMQ020x.dropna() == \"Yes\"\n",
    "p = x.mean()\n",
    "se = np.sqrt(0.4 * 0.6 / len(x))\n",
    "test_stat = (p - 0.4) / se\n",
    "pvalue = 2*dist.norm.cdf(-np.abs(test_stat))\n",
    "print(test_stat, pvalue)"
   ]
  },
  {
   "cell_type": "code",
   "execution_count": null,
   "metadata": {},
   "outputs": [],
   "source": [
    "# Prints test statistic, p-value\n",
    "print(sm.stats.proportions_ztest(x.sum(), len(x), 0.4)) # Normal approximation with estimated proportion in SE\n",
    "print(sm.stats.proportions_ztest(x.sum(), len(x), 0.4, prop_var=0.4)) # Normal approximation with null proportion in SE\n",
    "\n",
    "# Prints the p-value\n",
    "print(sm.stats.binom_test(x.sum(), len(x), 0.4)) # Exact binomial p-value"
   ]
  },
  {
   "cell_type": "code",
   "execution_count": null,
   "metadata": {},
   "outputs": [],
   "source": [
    "dx = da[[\"SMQ020x\", \"RIDAGEYR\", \"RIAGENDRx\"]].dropna()  # Drop missing values\n",
    "dx = dx.loc[(dx.RIDAGEYR >= 20) & (dx.RIDAGEYR <= 25), :] # Restrict to people between 20 and 25 years old\n",
    "\n",
    "# Summarize the data by caclculating the proportion of yes responses and the sample size\n",
    "p = dx.groupby(\"RIAGENDRx\")[\"SMQ020x\"].agg([lambda z: np.mean(z==\"Yes\"), \"size\"])\n",
    "p.columns = [\"Smoke\", \"N\"]\n",
    "print(p)\n",
    "\n",
    "# The pooled rate of yes responses, and the standard error of the estimated difference of proportions\n",
    "p_comb = (dx.SMQ020x == \"Yes\").mean()\n",
    "va = p_comb * (1 - p_comb)\n",
    "se = np.sqrt(va * (1 / p.N.Female + 1 / p.N.Male))\n",
    "\n",
    "# Calculate the test statistic and its p-value\n",
    "test_stat = (p.Smoke.Female - p.Smoke.Male) / se\n",
    "pvalue = 2*dist.norm.cdf(-np.abs(test_stat))\n",
    "print(test_stat, pvalue)"
   ]
  },
  {
   "cell_type": "code",
   "execution_count": null,
   "metadata": {},
   "outputs": [],
   "source": [
    "dx_females = dx.loc[dx.RIAGENDRx==\"Female\", \"SMQ020x\"].replace({\"Yes\": 1, \"No\": 0})\n",
    "dx_males = dx.loc[dx.RIAGENDRx==\"Male\", \"SMQ020x\"].replace({\"Yes\": 1, \"No\": 0})\n",
    "sm.stats.ttest_ind(dx_females, dx_males) # prints test statistic, p-value, degrees of freedom"
   ]
  },
  {
   "cell_type": "code",
   "execution_count": null,
   "metadata": {},
   "outputs": [],
   "source": [
    "dx = da[[\"BPXSY1\", \"RIDAGEYR\", \"RIAGENDRx\"]].dropna()\n",
    "dx = dx.loc[(dx.RIDAGEYR >= 40) & (dx.RIDAGEYR <= 50) & (dx.RIAGENDRx == \"Male\"), :]\n",
    "print(dx.BPXSY1.mean()) # prints mean blood pressure\n",
    "sm.stats.ztest(dx.BPXSY1, value=120)  # prints test statistic, p-value"
   ]
  },
  {
   "cell_type": "code",
   "execution_count": null,
   "metadata": {},
   "outputs": [],
   "source": [
    "dx = da[[\"BPXSY1\", \"RIDAGEYR\", \"RIAGENDRx\"]].dropna()\n",
    "dx = dx.loc[(dx.RIDAGEYR >= 50) & (dx.RIDAGEYR <= 60), :]\n",
    "bpx_female = dx.loc[dx.RIAGENDRx==\"Female\", \"BPXSY1\"]\n",
    "bpx_male = dx.loc[dx.RIAGENDRx==\"Male\", \"BPXSY1\"]\n",
    "print(bpx_female.mean(), bpx_male.mean()) # prints female mean, male mean\n",
    "print(sm.stats.ztest(bpx_female, bpx_male)) # prints test statistic, p-value\n",
    "print(sm.stats.ttest_ind(bpx_female, bpx_male)) # prints test statistic, p-value, degrees of freedom"
   ]
  },
  {
   "cell_type": "code",
   "execution_count": null,
   "metadata": {},
   "outputs": [],
   "source": [
    "dx = da[[\"BMXBMI\", \"RIDAGEYR\", \"RIAGENDRx\"]].dropna()\n",
    "da[\"agegrp\"] = pd.cut(da.RIDAGEYR, [18, 30, 40, 50, 60, 70, 80])\n",
    "da.groupby([\"agegrp\", \"RIAGENDRx\"])[\"BMXBMI\"].agg(np.std).unstack()"
   ]
  },
  {
   "cell_type": "code",
   "execution_count": null,
   "metadata": {},
   "outputs": [],
   "source": [
    "for k, v in da.groupby(\"agegrp\"):\n",
    "    bmi_female = v.loc[v.RIAGENDRx==\"Female\", \"BMXBMI\"].dropna()\n",
    "    bmi_female = sm.stats.DescrStatsW(bmi_female)\n",
    "    bmi_male = v.loc[v.RIAGENDRx==\"Male\", \"BMXBMI\"].dropna()\n",
    "    bmi_male = sm.stats.DescrStatsW(bmi_male)\n",
    "    print(k)\n",
    "    print(\"pooled: \", sm.stats.CompareMeans(bmi_female, bmi_male).ztest_ind(usevar='pooled'))\n",
    "    print(\"unequal:\", sm.stats.CompareMeans(bmi_female, bmi_male).ztest_ind(usevar='unequal'))\n",
    "    print()"
   ]
  },
  {
   "cell_type": "code",
   "execution_count": null,
   "metadata": {},
   "outputs": [],
   "source": [
    "dx = da[[\"BPXSY1\", \"BPXSY2\"]].dropna()\n",
    "db = dx.BPXSY1 - dx.BPXSY2\n",
    "print(db.mean())\n",
    "sm.stats.ztest(db)"
   ]
  },
  {
   "cell_type": "code",
   "execution_count": null,
   "metadata": {},
   "outputs": [],
   "source": [
    "dx = da[[\"RIAGENDRx\", \"BPXSY1\", \"BPXSY2\", \"RIDAGEYR\"]].dropna()\n",
    "dx[\"agegrp\"] = pd.cut(dx.RIDAGEYR, [18, 30, 40, 50, 60, 70, 80])\n",
    "for k, g in dx.groupby([\"RIAGENDRx\", \"agegrp\"]):\n",
    "    db = g.BPXSY1 - g.BPXSY2\n",
    "    # print stratum definition, mean difference, sample size, test statistic, p-value\n",
    "    print(k, db.mean(), db.size, sm.stats.ztest(db.values, value=0))"
   ]
  },
  {
   "cell_type": "code",
   "execution_count": null,
   "metadata": {},
   "outputs": [],
   "source": [
    "all_p = []\n",
    "dy = dx.loc[(dx.RIDAGEYR >= 50) & (dx.RIDAGEYR <= 60), :]\n",
    "for n in 100, 200, 400, 800:\n",
    "    pv = []\n",
    "    for i in range(500):\n",
    "        dz = dy.sample(n)\n",
    "        db = dz.BPXSY1 - dz.BPXSY2\n",
    "        _, p = sm.stats.ztest(db.values, value=0)\n",
    "        pv.append(p)\n",
    "    pv = np.asarray(pv)\n",
    "    all_p.append(pv)\n",
    "    print((pv <= 0.05).mean())"
   ]
  },
  {
   "cell_type": "code",
   "execution_count": null,
   "metadata": {},
   "outputs": [],
   "source": [
    "sns.distplot(all_p[0])"
   ]
  },
  {
   "cell_type": "code",
   "execution_count": null,
   "metadata": {},
   "outputs": [],
   "source": [
    "sns.distplot(all_p[2])"
   ]
  }
 ],
 "metadata": {
  "kernelspec": {
   "display_name": "Python 3",
   "language": "python",
   "name": "python3"
  },
  "language_info": {
   "codemirror_mode": {
    "name": "ipython",
    "version": 3
   },
   "file_extension": ".py",
   "mimetype": "text/x-python",
   "name": "python",
   "nbconvert_exporter": "python",
   "pygments_lexer": "ipython3",
   "version": "3.8.2"
  }
 },
 "nbformat": 4,
 "nbformat_minor": 4
}
