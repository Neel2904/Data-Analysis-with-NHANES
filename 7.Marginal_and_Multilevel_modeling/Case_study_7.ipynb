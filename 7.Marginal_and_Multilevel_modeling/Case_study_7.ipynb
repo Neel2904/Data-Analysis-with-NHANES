{
 "cells": [
  {
   "cell_type": "code",
   "execution_count": null,
   "metadata": {},
   "outputs": [],
   "source": [
    "%matplotlib inline\n",
    "import matplotlib.pyplot as plt\n",
    "import seaborn as sns\n",
    "import pandas as pd\n",
    "import statsmodels.api as sm\n",
    "import numpy as np"
   ]
  },
  {
   "cell_type": "code",
   "execution_count": null,
   "metadata": {},
   "outputs": [],
   "source": [
    "# Read the data file\n",
    "da = pd.read_csv(\"nhanes_2015_2016.csv\")\n",
    "\n",
    "# Drop unused columns, drop rows with any missing values.\n",
    "vars = [\"BPXSY1\", \"RIDAGEYR\", \"RIAGENDR\", \"RIDRETH1\", \"DMDEDUC2\", \"BMXBMI\",\n",
    "        \"SMQ020\", \"SDMVSTRA\", \"SDMVPSU\"]\n",
    "da = da[vars].dropna()"
   ]
  },
  {
   "cell_type": "code",
   "execution_count": null,
   "metadata": {},
   "outputs": [],
   "source": [
    "da[\"group\"] = 10*da.SDMVSTRA + da.SDMVPSU"
   ]
  },
  {
   "cell_type": "code",
   "execution_count": null,
   "metadata": {},
   "outputs": [],
   "source": [
    "model = sm.GEE.from_formula(\"BPXSY1 ~ 1\", groups=\"group\",\n",
    "           cov_struct=sm.cov_struct.Exchangeable(), data=da)\n",
    "result = model.fit()\n",
    "print(result.cov_struct.summary())"
   ]
  },
  {
   "cell_type": "code",
   "execution_count": null,
   "metadata": {},
   "outputs": [],
   "source": [
    "# Recode smoking to a simple binary variable\n",
    "da[\"smq\"] = da.SMQ020.replace({2: 0, 7: np.nan, 9: np.nan})\n",
    "\n",
    "for v in [\"BPXSY1\", \"RIDAGEYR\", \"BMXBMI\", \"smq\", \"SDMVSTRA\"]:\n",
    "    model = sm.GEE.from_formula(v + \" ~ 1\", groups=\"group\",\n",
    "           cov_struct=sm.cov_struct.Exchangeable(), data=da)\n",
    "    result = model.fit()\n",
    "    print(v, result.cov_struct.summary())"
   ]
  },
  {
   "cell_type": "code",
   "execution_count": null,
   "metadata": {},
   "outputs": [],
   "source": [
    "for k in range(10):\n",
    "    da[\"noise\"] = np.random.normal(size=da.shape[0])\n",
    "    model = sm.GEE.from_formula(\"noise ~ 1\", groups=\"group\",\n",
    "           cov_struct=sm.cov_struct.Exchangeable(), data=da)\n",
    "    result = model.fit()\n",
    "    print(v, result.cov_struct.summary())"
   ]
  },
  {
   "cell_type": "code",
   "execution_count": null,
   "metadata": {},
   "outputs": [],
   "source": [
    "model = sm.GEE.from_formula(\"BPXSY1 ~ RIDAGEYR\", groups=\"group\",\n",
    "           cov_struct=sm.cov_struct.Exchangeable(), data=da)\n",
    "result = model.fit()\n",
    "print(result.cov_struct.summary())"
   ]
  },
  {
   "cell_type": "code",
   "execution_count": null,
   "metadata": {},
   "outputs": [],
   "source": [
    "# Create a labeled version of the gender variable\n",
    "da[\"RIAGENDRx\"] = da.RIAGENDR.replace({1: \"Male\", 2: \"Female\"})\n",
    "\n",
    "model = sm.GEE.from_formula(\"BPXSY1 ~ RIDAGEYR + RIAGENDRx + BMXBMI + C(RIDRETH1)\",\n",
    "           groups=\"group\",\n",
    "           cov_struct=sm.cov_struct.Exchangeable(), data=da)\n",
    "result = model.fit()\n",
    "print(result.cov_struct.summary())"
   ]
  },
  {
   "cell_type": "code",
   "execution_count": null,
   "metadata": {},
   "outputs": [],
   "source": [
    "# Fit a linear model with OLS\n",
    "model1 = sm.OLS.from_formula(\"BPXSY1 ~ RIDAGEYR + RIAGENDRx + BMXBMI + C(RIDRETH1)\",\n",
    "           data=da)\n",
    "result1 = model1.fit()\n",
    "\n",
    "# Fit a marginal linear model using GEE to handle dependent data\n",
    "model2 = sm.GEE.from_formula(\"BPXSY1 ~ RIDAGEYR + RIAGENDRx + BMXBMI + C(RIDRETH1)\",\n",
    "           groups=\"group\",\n",
    "           cov_struct=sm.cov_struct.Exchangeable(), data=da)\n",
    "result2 = model2.fit()\n",
    "\n",
    "x = pd.DataFrame({\"OLS_params\": result1.params, \"OLS_SE\": result1.bse,\n",
    "                  \"GEE_params\": result2.params, \"GEE_SE\": result2.bse})\n",
    "x = x[[\"OLS_params\", \"OLS_SE\", \"GEE_params\", \"GEE_SE\"]]\n",
    "print(x)"
   ]
  },
  {
   "cell_type": "code",
   "execution_count": null,
   "metadata": {},
   "outputs": [],
   "source": [
    "# Relabel the levels, convert rare categories to missing.\n",
    "da[\"DMDEDUC2x\"] = da.DMDEDUC2.replace({1: \"lt9\", 2: \"x9_11\", 3: \"HS\", 4: \"SomeCollege\",\n",
    "                                       5: \"College\", 7: np.nan, 9: np.nan})\n",
    "\n",
    "# Fit a basic GLM\n",
    "model1 = sm.GLM.from_formula(\"smq ~ RIDAGEYR + RIAGENDRx + C(DMDEDUC2x)\",\n",
    "           family=sm.families.Binomial(), data=da)\n",
    "result1 = model1.fit()\n",
    "result1.summary()\n",
    "\n",
    "# Fit a marginal GLM using GEE\n",
    "model2 = sm.GEE.from_formula(\"smq ~ RIDAGEYR + RIAGENDRx + C(DMDEDUC2x)\",\n",
    "           groups=\"group\", family=sm.families.Binomial(),\n",
    "           cov_struct=sm.cov_struct.Exchangeable(), data=da)\n",
    "result2 = model2.fit(start_params=result1.params)\n",
    "\n",
    "x = pd.DataFrame({\"OLS_params\": result1.params, \"OLS_SE\": result1.bse,\n",
    "                  \"GEE_params\": result2.params, \"GEE_SE\": result2.bse})\n",
    "x = x[[\"OLS_params\", \"OLS_SE\", \"GEE_params\", \"GEE_SE\"]]\n",
    "print(x)"
   ]
  },
  {
   "cell_type": "code",
   "execution_count": null,
   "metadata": {},
   "outputs": [],
   "source": [
    "# Fit a multilevel (mixed effects) model to handle dependent data\n",
    "model = sm.MixedLM.from_formula(\"BPXSY1 ~ RIDAGEYR + RIAGENDRx + BMXBMI + C(RIDRETH1)\",\n",
    "           groups=\"group\", data=da)\n",
    "result = model.fit()\n",
    "result.summary()"
   ]
  },
  {
   "cell_type": "code",
   "execution_count": null,
   "metadata": {},
   "outputs": [],
   "source": [
    "result.random_effects"
   ]
  },
  {
   "cell_type": "code",
   "execution_count": null,
   "metadata": {},
   "outputs": [],
   "source": [
    "da[\"age_cen\"] = da.groupby(\"group\").RIDAGEYR.transform(lambda x: x - x.mean())\n",
    "\n",
    "model = sm.MixedLM.from_formula(\"BPXSY1 ~ age_cen + RIAGENDRx + BMXBMI + C(RIDRETH1)\",\n",
    "           groups=\"group\", vc_formula={\"age_cen\": \"0+age_cen\"}, data=da)\n",
    "result = model.fit()\n",
    "result.summary()"
   ]
  },
  {
   "cell_type": "code",
   "execution_count": null,
   "metadata": {},
   "outputs": [],
   "source": [
    "model = sm.MixedLM.from_formula(\"BPXSY1 ~ age_cen + RIAGENDRx + BMXBMI + C(RIDRETH1)\",\n",
    "           groups=\"group\", re_formula=\"1+age_cen\", data=da)\n",
    "result = model.fit()\n",
    "result.summary()"
   ]
  },
  {
   "cell_type": "code",
   "execution_count": null,
   "metadata": {},
   "outputs": [],
   "source": []
  }
 ],
 "metadata": {
  "kernelspec": {
   "display_name": "Python 3",
   "language": "python",
   "name": "python3"
  },
  "language_info": {
   "codemirror_mode": {
    "name": "ipython",
    "version": 3
   },
   "file_extension": ".py",
   "mimetype": "text/x-python",
   "name": "python",
   "nbconvert_exporter": "python",
   "pygments_lexer": "ipython3",
   "version": "3.8.2"
  }
 },
 "nbformat": 4,
 "nbformat_minor": 4
}
